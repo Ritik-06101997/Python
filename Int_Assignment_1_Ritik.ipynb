{
 "cells": [
  {
   "cell_type": "code",
   "execution_count": 5,
   "id": "448d8509",
   "metadata": {},
   "outputs": [
    {
     "name": "stdout",
     "output_type": "stream",
     "text": [
      "1309102008720\n"
     ]
    }
   ],
   "source": [
    "#Q. Declare an int value and store it in a variable.\n",
    "#Check the type and print the id of the same.\n",
    "a = 4\n",
    "type(a)\n",
    "print(id(a))\n"
   ]
  },
  {
   "cell_type": "code",
   "execution_count": 10,
   "id": "c071252d",
   "metadata": {},
   "outputs": [
    {
     "name": "stdout",
     "output_type": "stream",
     "text": [
      "1309102008752\n",
      "1309102008752\n"
     ]
    }
   ],
   "source": [
    "# Q. Take one int value between 0 - 256.\n",
    "#Assign it to two different variables.\n",
    "#Check the id of both the variables. It should come the same. Check why?\n",
    "a= 5\n",
    "b= 5\n",
    "print(id(a))\n",
    "print(id(b))\n",
    "# Reason : a and b getting stored in stack memory type but the value for a created one heap memory address and getting reused(memory reusabilty)."
   ]
  },
  {
   "cell_type": "code",
   "execution_count": 16,
   "id": "c0e39c2a",
   "metadata": {},
   "outputs": [
    {
     "name": "stdout",
     "output_type": "stream",
     "text": [
      "1309185243216\n",
      "1309185243920\n"
     ]
    }
   ],
   "source": [
    "# Q. Take one int value either less than -5 or greater than 256.\n",
    "# Assign it to two different variables.\n",
    "# Check the id of both the variables. It should come different.Check why?\n",
    "a= -9\n",
    "b= -9\n",
    "print(id(a))\n",
    "print(id(b))\n",
    "# Because -5 to 256 only is object reusability in python."
   ]
  },
  {
   "cell_type": "markdown",
   "id": "96c221ea",
   "metadata": {},
   "source": [
    "# Q. Arithmetic Operations on integers\n",
    "Take two different integer values.\n",
    "Store them in two different variables.\n",
    "Do below operations on them:-\n",
    "Find sum of both numbers\n",
    "Find difference between them\n",
    "Find the product of both numbers.\n",
    "Find value after dividing first num with second number\n",
    "Find the remainder after dividing first number with second number\n",
    "Find the quotient after dividing first number with second number\n",
    "Find the result of the first num to the power of the second number."
   ]
  },
  {
   "cell_type": "code",
   "execution_count": 12,
   "id": "711f74c4",
   "metadata": {},
   "outputs": [
    {
     "name": "stdout",
     "output_type": "stream",
     "text": [
      "22\n",
      "2\n",
      "120\n",
      "1.2\n",
      "2\n",
      "1\n",
      "61917364224\n"
     ]
    }
   ],
   "source": [
    "a= 12\n",
    "b= 10\n",
    "# Sum\n",
    "print(a+b)\n",
    "# Difference\n",
    "print(a-b)\n",
    "# Multiplication\n",
    "print(a*b)\n",
    "# Divide\n",
    "print(a/b)\n",
    "# Remainder\n",
    "print(a%b)\n",
    "# Quotient\n",
    "print(a//b)\n",
    "# Power\n",
    "print(a**b)"
   ]
  },
  {
   "cell_type": "code",
   "execution_count": null,
   "id": "4f340653",
   "metadata": {},
   "outputs": [],
   "source": [
    "# Q. Comparison Operators on integers\n",
    "# Take two different integer values.\n",
    "# Store them in two different variables.\n",
    "# Do below operations on them:-\n",
    "# Compare se two numbers with below operator:-\n",
    "# Greater than, '>'\n",
    "# Smaller than, '<'\n",
    "# Greater than or equal to, '>='\n",
    "# Less than or equal to, '<='\n",
    "# Observe their output(return type should be boolean)\n"
   ]
  },
  {
   "cell_type": "code",
   "execution_count": 18,
   "id": "14789d86",
   "metadata": {},
   "outputs": [
    {
     "name": "stdout",
     "output_type": "stream",
     "text": [
      "False <class 'bool'>\n",
      "True <class 'bool'>\n",
      "False <class 'bool'>\n",
      "True <class 'bool'>\n"
     ]
    }
   ],
   "source": [
    "a = 12\n",
    "b = 13\n",
    "print(a>b,type(a>b))\n",
    "print(a<b,type(a<b))\n",
    "print(a>=b,type(a>=b))\n",
    "print(a<=b,type(a<=b))"
   ]
  },
  {
   "cell_type": "code",
   "execution_count": 19,
   "id": "f60d269f",
   "metadata": {},
   "outputs": [],
   "source": [
    "# Q. Equality Operator\n",
    "# Take two different integer values.\n",
    "# Store them in two different variables.\n",
    "# Equate them using equality operators (==, !=)\n",
    "# Observe the output(return type should be boolean)"
   ]
  },
  {
   "cell_type": "code",
   "execution_count": 20,
   "id": "b51afc25",
   "metadata": {},
   "outputs": [
    {
     "name": "stdout",
     "output_type": "stream",
     "text": [
      "False <class 'bool'>\n",
      "True <class 'bool'>\n"
     ]
    }
   ],
   "source": [
    "a= 12\n",
    "b= 23\n",
    "print(a==b,type(a==b))\n",
    "print(a!=b,type(a!=b))"
   ]
  },
  {
   "cell_type": "code",
   "execution_count": 22,
   "id": "cbf95fc9",
   "metadata": {},
   "outputs": [
    {
     "name": "stdout",
     "output_type": "stream",
     "text": [
      "20\n",
      "0\n",
      "0\n",
      "0\n",
      "10\n",
      "20\n",
      "20\n",
      "0\n",
      "False\n",
      "True\n"
     ]
    }
   ],
   "source": [
    "# Q. Logical operators\n",
    "# Observe the output of below code\n",
    "# Cross check the output manually\n",
    "print(10 and 20)\n",
    "#----------------------------------------->Output is 20\n",
    "print(0 and 20)\n",
    "#----------------------------------------->Output is 0\n",
    "print(20 and 0)\n",
    "#----------------------------------------->Output is 0\n",
    "print(0 and 0)\n",
    "#----------------------------------------->Output is 0\n",
    "print(10 or 20)\n",
    "#----------------------------------------->Output is 10\n",
    "print(0 or 20)\n",
    "#----------------------------------------->Output is 20\n",
    "print(20 or 0)\n",
    "#----------------------------------------->Output is 20\n",
    "print(0 or 0)\n",
    "#----------------------------------------->Output is 0\n",
    "print(not 10)\n",
    "#----------------------------------------->Output is False\n",
    "print(not 0)\n",
    "#----------------------------------------->Output is True"
   ]
  },
  {
   "cell_type": "markdown",
   "id": "4488c319",
   "metadata": {},
   "source": [
    "# Note-: Any Non Zero value is True\n",
    "- If the operand is any other value then\n",
    "- A and B--> result will be A if bool(A) is false else B\n",
    "- A or  B--> result will be A if bool(A) is true else B\n",
    "- int -0 False , all -True\n",
    "- float-0.0 False , all -True\n",
    "- string- \"\" Flase, all -True\n",
    "- Complex-0 +0j False, all- True\n",
    "- None-False\n"
   ]
  },
  {
   "cell_type": "code",
   "execution_count": 25,
   "id": "021de178",
   "metadata": {
    "scrolled": true
   },
   "outputs": [
    {
     "name": "stdout",
     "output_type": "stream",
     "text": [
      "0\n",
      "30\n",
      "30\n",
      "-11\n",
      "2\n",
      "40\n"
     ]
    }
   ],
   "source": [
    "# # Q. Bitwise Operators\n",
    "# Do below operations on the values provided below:-\n",
    "# Bitwise and(&) -----------------------------------------> 10, 20\n",
    "print(10&20)\n",
    "# -------> Output is 0\n",
    "# Bitwise or(|) -----------------------------------------> 10, 20\n",
    "print(10|20)\n",
    "# -------> Output is 30\n",
    "# Bitwise(^) -----------------------------------------> 10, 20\n",
    "print(10^20)\n",
    "# -------> Output is 30\n",
    "# Bitwise negation(~) ------------------------------------> 10\n",
    "print(~10)\n",
    "# -------> Output is -11\n",
    "\n",
    "\n",
    "# Bitwise <correction<>right> shift ------------------------------------> 10,2\n",
    "print(10>>2)\n",
    "# -------> Output is 2 (10||(2**n))\n",
    "\n",
    "\n",
    "# Bitwise <correction<>left> shift ------------------------------------> 10,2\n",
    "print(10<<2)\n",
    "# -------> Output is 40 ( 10*(2**n))\n",
    "# Cross check the output manually# "
   ]
  },
  {
   "cell_type": "code",
   "execution_count": 31,
   "id": "5e263ecb",
   "metadata": {},
   "outputs": [
    {
     "name": "stdout",
     "output_type": "stream",
     "text": [
      "2097702136400\n",
      "2097702136400\n",
      "True\n",
      "False\n",
      "2097786700368\n",
      "2097786700048\n",
      "False\n",
      "True\n"
     ]
    }
   ],
   "source": [
    "#Q. What is the output of expression inside print statement. Cross check\n",
    "#before running the program.\n",
    "\n",
    "a = 10\n",
    "b = 10\n",
    "print(id(a))\n",
    "print(id(b))\n",
    "print(a is b) #True or False?\n",
    "# Check if the memory operator using same address or not,hence True\n",
    "print(a is not b) #True or False?\n",
    "#False\n",
    "a = 1000\n",
    "b = 1000\n",
    "print(id(a))\n",
    "print(id(b))\n",
    "print(a is b) #True or False?\n",
    "# False\n",
    "print(a is not b) #True or False?\n",
    "# True\n",
    "# Here the address is different because range of int is -5 to 256."
   ]
  },
  {
   "cell_type": "code",
   "execution_count": 32,
   "id": "f6f32d69",
   "metadata": {},
   "outputs": [
    {
     "name": "stdout",
     "output_type": "stream",
     "text": [
      "20\n"
     ]
    },
    {
     "data": {
      "text/plain": [
       "'first\\n()\\n**\\n+x,-x,~x\\n*,/,//,%\\n+,-\\n<<,>>\\n&\\n^\\n==,!=,>,>=,<,<=,is,is not,in,not in\\nnot\\nand\\nor\\nprint(10+320//2**5&20+(~(-10))<<2)\\nprint(10+320//2**5&20+9<<2)\\nprint(10+320//32&20+9<<2)\\nprint(10+10&20+9<<2)\\nprint(20&20+9<<2)\\nprint(20&29<<2)\\nprint()\\n'"
      ]
     },
     "execution_count": 32,
     "metadata": {},
     "output_type": "execute_result"
    }
   ],
   "source": [
    "# Q. What is the output of expression inside print statement. Cross check before running the program.\n",
    "print(10+(10*32)//2**5&20+(~(-10))<<2)\n",
    "'''first\n",
    "()\n",
    "**\n",
    "+x,-x,~x\n",
    "*,/,//,%\n",
    "+,-\n",
    "<<,>>\n",
    "&\n",
    "^\n",
    "==,!=,>,>=,<,<=,is,is not,in,not in\n",
    "not\n",
    "and\n",
    "or\n",
    "print(10+320//2**5&20+(~(-10))<<2)\n",
    "print(10+320//2**5&20+9<<2)\n",
    "print(10+320//32&20+9<<2)\n",
    "print(10+10&20+9<<2)\n",
    "print(20&20+9<<2)\n",
    "print(20&29<<2)\n",
    "print(20&116)\n",
    "'''"
   ]
  },
  {
   "cell_type": "code",
   "execution_count": 35,
   "id": "0e594941",
   "metadata": {},
   "outputs": [
    {
     "name": "stdout",
     "output_type": "stream",
     "text": [
      "20 0b10100 0b1110100 20\n"
     ]
    }
   ],
   "source": [
    "print(20&29<<2,bin(20),bin(116),(20&116))"
   ]
  },
  {
   "cell_type": "code",
   "execution_count": 36,
   "id": "2589cdf1",
   "metadata": {},
   "outputs": [
    {
     "name": "stdout",
     "output_type": "stream",
     "text": [
      "True\n",
      "True\n",
      "True\n",
      "True\n",
      "True\n",
      "True\n"
     ]
    }
   ],
   "source": [
    "# Q. Membership operation\n",
    "# in, not in are two membership operators and it returns boolean value\n",
    "print('2' in 'Python2.7.8')\n",
    "print(10 in [10,10.20,10+20j,'Python'])\n",
    "print(10 in (10,10.20,10+20j,'Python'))\n",
    "print(2 in {1,2,3})\n",
    "print(3 in {1:100, 2:200, 3:300})\n",
    "print(10 in range(20))"
   ]
  },
  {
   "cell_type": "code",
   "execution_count": 42,
   "id": "93d0b2e4",
   "metadata": {},
   "outputs": [
    {
     "name": "stdout",
     "output_type": "stream",
     "text": [
      "0b10011\n",
      "0o60\n",
      "0x100\n",
      "0b10011010010100 0o23224 0x2694\n"
     ]
    }
   ],
   "source": [
    "# Q. An integer can be represented in binary, octal or hexadecimal form.\n",
    "# Declare one binary, one octal and one hexadecimal value and store them\n",
    "# in three different variables.\n",
    "# Convert 9876 to its binary, octal and hexadecimal equivalent and print\n",
    "# their corresponding value.\n",
    "a= bin(19)\n",
    "print(a)\n",
    "b= oct(48)\n",
    "print(b)\n",
    "c= hex(256)\n",
    "print(c)\n",
    "print(bin(9876),oct(9876),hex(9876))"
   ]
  },
  {
   "cell_type": "code",
   "execution_count": 43,
   "id": "3eb4fc42",
   "metadata": {},
   "outputs": [
    {
     "name": "stdout",
     "output_type": "stream",
     "text": [
      "80\n",
      "3870\n",
      "64222\n",
      "0b1010000\n",
      "0o7436\n",
      "0xfade\n",
      "0b1010000\n",
      "0b1111101011011110\n",
      "0o175336\n",
      "0o7436\n",
      "0x50\n",
      "0xfade\n"
     ]
    }
   ],
   "source": [
    "# Q. What will be the output of following:-\n",
    "a = 0b1010000\n",
    "print(a)\n",
    "b = 0o7436\n",
    "print(b)\n",
    "c = 0xfade\n",
    "print(c)\n",
    "print(bin(80))\n",
    "\n",
    "print(oct(3870))\n",
    "print(hex(64222))\n",
    "print(bin(0b1010000))\n",
    "print(bin(0xfade))\n",
    "print(oct(0xfade))\n",
    "print(oct(0o7436))\n",
    "print(hex(0b1010000))\n",
    "print(hex(0xfade))"
   ]
  }
 ],
 "metadata": {
  "kernelspec": {
   "display_name": "Python 3 (ipykernel)",
   "language": "python",
   "name": "python3"
  },
  "language_info": {
   "codemirror_mode": {
    "name": "ipython",
    "version": 3
   },
   "file_extension": ".py",
   "mimetype": "text/x-python",
   "name": "python",
   "nbconvert_exporter": "python",
   "pygments_lexer": "ipython3",
   "version": "3.9.13"
  }
 },
 "nbformat": 4,
 "nbformat_minor": 5
}
