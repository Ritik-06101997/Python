{
  "nbformat": 4,
  "nbformat_minor": 0,
  "metadata": {
    "colab": {
      "provenance": [],
      "toc_visible": true,
      "cell_execution_strategy": "setup",
      "authorship_tag": "ABX9TyND1qjjwjHy47WD7f/surV7",
      "include_colab_link": true
    },
    "kernelspec": {
      "name": "python3",
      "display_name": "Python 3"
    },
    "language_info": {
      "name": "python"
    }
  },
  "cells": [
    {
      "cell_type": "markdown",
      "metadata": {
        "id": "view-in-github",
        "colab_type": "text"
      },
      "source": [
        "<a href=\"https://colab.research.google.com/github/Ritik-06101997/Python/blob/main/Second%20Largest%20and%20second%20Smallest%20number%20in%20array.ipynb\" target=\"_parent\"><img src=\"https://colab.research.google.com/assets/colab-badge.svg\" alt=\"Open In Colab\"/></a>"
      ]
    },
    {
      "cell_type": "code",
      "execution_count": null,
      "metadata": {
        "id": "cLYUH3xY-sFr"
      },
      "outputs": [],
      "source": [
        "def getElements(a,n):\n",
        "    # Write your code here.\n",
        "     # Write your code here.\n",
        "    if(n<2):\n",
        "        return -1\n",
        "    large= float('-inf')\n",
        "    second_large= float('-inf')\n",
        "    small= float('inf')\n",
        "    second_small= float('inf')\n",
        "    # To find second_large [1,2,3,5,5,4,7]\n",
        "    for i in range(n):\n",
        "        if a[i]> large:\n",
        "            second_large=large  #After large value is replaced, it will become second large\n",
        "            large=a[i]\n",
        "        elif a[i] > second_large and a[i] != large:\n",
        "            second_large= a[i]\n",
        "\n",
        "    # To find second_small [1,2,3,5,5,4,7]\n",
        "    for i in range(n):\n",
        "        if a[i] < small:\n",
        "            second_small= small # After small value is replaced, it will become second small\n",
        "            small = a[i]\n",
        "        elif a[i] < second_small and a[i] != small:\n",
        "            second_small= a[i]\n",
        "    return [second_small, second_large]\n",
        "if __name__ == '__main__':\n",
        "    arr = [1, 2, 4, 6, 7, 5]\n",
        "    n = len(arr)\n",
        "    getElements(arr, n)"
      ]
    },
    {
      "cell_type": "code",
      "source": [
        "getElements(arr,n)"
      ],
      "metadata": {
        "colab": {
          "base_uri": "https://localhost:8080/"
        },
        "id": "g2WtjYnBAMNG",
        "outputId": "1aa9e069-70c2-45ce-c632-a5a904c14728"
      },
      "execution_count": null,
      "outputs": [
        {
          "output_type": "execute_result",
          "data": {
            "text/plain": [
              "[2, 6]"
            ]
          },
          "metadata": {},
          "execution_count": 19
        }
      ]
    }
  ]
}