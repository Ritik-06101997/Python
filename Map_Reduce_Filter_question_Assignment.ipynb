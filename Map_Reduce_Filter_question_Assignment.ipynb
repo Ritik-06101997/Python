{
 "cells": [
  {
   "cell_type": "code",
   "execution_count": 9,
   "metadata": {},
   "outputs": [
    {
     "data": {
      "text/plain": [
       "[3, 6, 9, 12]"
      ]
     },
     "execution_count": 9,
     "metadata": {},
     "output_type": "execute_result"
    }
   ],
   "source": [
    "# Write a Python program to triple all numbers of a given list of integers. Use Python map\n",
    "L=[1,2,3,4]\n",
    "a= lambda element:element*3\n",
    "list(map(a,L))"
   ]
  },
  {
   "cell_type": "code",
   "execution_count": 14,
   "metadata": {},
   "outputs": [
    {
     "data": {
      "text/plain": [
       "[12, 15, 18]"
      ]
     },
     "execution_count": 14,
     "metadata": {},
     "output_type": "execute_result"
    }
   ],
   "source": [
    "# Write a Python program to add three given lists using Python map and lambda\n",
    "L1=[1,2,3]\n",
    "L2=[4,5,6]\n",
    "L3=[7,8,9]\n",
    "list(map(lambda a,b,c:a+b+c,L1,L2,L3))"
   ]
  },
  {
   "cell_type": "code",
   "execution_count": 24,
   "metadata": {},
   "outputs": [
    {
     "name": "stdout",
     "output_type": "stream",
     "text": [
      "\n",
      "Output - \n",
      "[(6, 6), (6, 4), (10, -4), (16, 2)]\n"
     ]
    }
   ],
   "source": [
    "# Write a Python program to add two given lists and find the difference between lists\n",
    "\n",
    "\"\"\"\n",
    "sample list\n",
    "nums1 = [6, 5, 3, 9]\n",
    "nums2 = [0, 1, 7, 7]\n",
    "\n",
    "\n",
    "output  - [(6, 6), (6, 4), (10, -4), (16, 2)]\n",
    "\n",
    "\"\"\"\n",
    "def add_sub(x,y):\n",
    "    return x+y,x-y\n",
    "\n",
    "nums1 = [6, 5, 3, 9]\n",
    "nums2 = [0, 1, 7, 7]\n",
    "output = map(add_sub,nums1,nums2)\n",
    "print(\"\\nOutput - \")\n",
    "print(list(output))\n"
   ]
  },
  {
   "cell_type": "code",
   "execution_count": 110,
   "metadata": {},
   "outputs": [
    {
     "data": {
      "text/plain": [
       "[('R', 'r'),\n",
       " ('I', 'i'),\n",
       " ('S', 's'),\n",
       " ('A', 'a'),\n",
       " ('L', 'l'),\n",
       " ('W', 'w'),\n",
       " ('O', 'o'),\n",
       " ('V', 'v'),\n",
       " ('H', 'h'),\n",
       " ('L', 'l'),\n",
       " ('U', 'u'),\n",
       " ('M', 'm'),\n",
       " ('G', 'g'),\n",
       " (' ', ' '),\n",
       " ('C', 'c'),\n",
       " ('P', 'p'),\n",
       " ('D', 'd'),\n",
       " ('N', 'n'),\n",
       " ('P', 'p'),\n",
       " ('Y', 'y'),\n",
       " ('C', 'c'),\n",
       " ('E', 'e'),\n",
       " ('W', 'w'),\n",
       " ('T', 't')]"
      ]
     },
     "execution_count": 110,
     "metadata": {},
     "output_type": "execute_result"
    }
   ],
   "source": [
    "# Write a Python program to convert all the characters in uppercase and lowercase and \n",
    "#eliminate duplicate letters from a given sequence\n",
    "\n",
    "string = \"Write a Python Program to convert all the character in uppercase and LowerCase\"\n",
    "seq = set(string) \n",
    "def __lowupp__(seq):\n",
    "    return seq.upper(),seq.lower()\n",
    "list(map(__lowupp__,seq))"
   ]
  },
  {
   "cell_type": "code",
   "execution_count": 31,
   "metadata": {},
   "outputs": [
    {
     "data": {
      "text/plain": [
       "['Apple', 'Amla', 'Anaar']"
      ]
     },
     "execution_count": 31,
     "metadata": {},
     "output_type": "execute_result"
    }
   ],
   "source": [
    "# Filter out the fruits that start with A \n",
    "test_list = ['Apple', 'orange', 'smango', 'grape','Amla','Anaar']\n",
    "list(filter(lambda fruits:fruits.startswith('A'),test_list))"
   ]
  },
  {
   "cell_type": "code",
   "execution_count": 35,
   "metadata": {},
   "outputs": [
    {
     "data": {
      "text/plain": [
       "[1, 2, 3, 0, 21]"
      ]
     },
     "execution_count": 35,
     "metadata": {},
     "output_type": "execute_result"
    }
   ],
   "source": [
    "# Filter out the positve number from a list\n",
    "num_list=[1,2,3,-4,-7,0,21,-21]\n",
    "list(filter(lambda x:x >= 0,num_list))"
   ]
  },
  {
   "cell_type": "code",
   "execution_count": 37,
   "metadata": {},
   "outputs": [
    {
     "data": {
      "text/plain": [
       "[30, 15, 90]"
      ]
     },
     "execution_count": 37,
     "metadata": {},
     "output_type": "execute_result"
    }
   ],
   "source": [
    "# filter out the multiples of 3 and 5 from a list\n",
    "mul_list = [3,10,5,12,67,23,30,15,90]\n",
    "list(filter(lambda x: x%3==0 and x%5==0,mul_list))\n",
    "# Multiple of 3 and 5 is 30,15 &90"
   ]
  },
  {
   "cell_type": "code",
   "execution_count": 42,
   "metadata": {},
   "outputs": [],
   "source": [
    "from functools import reduce\n"
   ]
  },
  {
   "cell_type": "code",
   "execution_count": 46,
   "metadata": {},
   "outputs": [
    {
     "data": {
      "text/plain": [
       "'xzyvvzplk'"
      ]
     },
     "execution_count": 46,
     "metadata": {},
     "output_type": "execute_result"
    }
   ],
   "source": [
    "# find the max string using reduce function\n",
    "st= [\"Hello\",'lemon','Holi','abc','xzyvvzplk']\n",
    "reduce(lambda x,y:x if x>y else y,st)\n",
    "# We can use below function to check string value---- __strval__(st)"
   ]
  },
  {
   "cell_type": "code",
   "execution_count": 91,
   "metadata": {},
   "outputs": [
    {
     "name": "stdout",
     "output_type": "stream",
     "text": [
      "Mean= 20.6,Max= 102,Min= -3\n"
     ]
    }
   ],
   "source": [
    "# find the mean , max and min of a given list using reduce function\n",
    "nlist=[1,2,3,4,59,30,102,8,0,-3]\n",
    "Mean= reduce(lambda x,y:x+y,nlist)/len(nlist)\n",
    "Max= reduce(lambda x,y:x if x > y else y,nlist)\n",
    "Min= reduce(lambda x,y:x if x < y else y,nlist)\n",
    "print(f\"Mean= {Mean},Max= {Max},Min= {Min}\")\n"
   ]
  },
  {
   "cell_type": "code",
   "execution_count": 115,
   "metadata": {
    "collapsed": true
   },
   "outputs": [
    {
     "data": {
      "text/plain": [
       "\"\\nlst= ['asdf','aert','jnnd','a']\\ndef __strval__(lst):\\n    for word in lst:\\n        sum=0\\n        for ch in word:\\n            sum+= ord(ch)\\n        print(sum)\\n\""
      ]
     },
     "execution_count": 115,
     "metadata": {},
     "output_type": "execute_result"
    }
   ],
   "source": [
    "#####################################################End########################################################################\n",
    "##################################################Rough Work#################################################################################\n",
    "\"\"\"\n",
    "lst= ['asdf','aert','jnnd','a']\n",
    "def __strval__(lst):\n",
    "    for word in lst:\n",
    "        sum=0\n",
    "        for ch in word:\n",
    "            sum+= ord(ch)\n",
    "        print(sum)\n",
    "\"\"\""
   ]
  },
  {
   "cell_type": "code",
   "execution_count": null,
   "metadata": {},
   "outputs": [],
   "source": []
  }
 ],
 "metadata": {
  "kernelspec": {
   "display_name": "Python 3 (ipykernel)",
   "language": "python",
   "name": "python3"
  },
  "language_info": {
   "codemirror_mode": {
    "name": "ipython",
    "version": 3
   },
   "file_extension": ".py",
   "mimetype": "text/x-python",
   "name": "python",
   "nbconvert_exporter": "python",
   "pygments_lexer": "ipython3",
   "version": "3.9.13"
  }
 },
 "nbformat": 4,
 "nbformat_minor": 4
}
