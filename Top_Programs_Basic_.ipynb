{
  "nbformat": 4,
  "nbformat_minor": 0,
  "metadata": {
    "colab": {
      "provenance": [],
      "toc_visible": true
    },
    "kernelspec": {
      "name": "python3",
      "display_name": "Python 3"
    },
    "language_info": {
      "name": "python"
    }
  },
  "cells": [
    {
      "cell_type": "markdown",
      "source": [
        "1.Calculator : Build a basic calculator for arithmetic operations"
      ],
      "metadata": {
        "id": "coSnVGTj3Qam"
      }
    },
    {
      "cell_type": "code",
      "source": [
        "def calculator(num1,num2,operation):\n",
        "  if operation==\"+\":\n",
        "    return (num1+num2)\n",
        "  elif operation==\"-\":\n",
        "    return num1-num2\n",
        "  elif operation==\"*\":\n",
        "    return num1*num2\n",
        "  elif operation==\"/\":\n",
        "    return num1/num2\n",
        "  else:\n",
        "    print(\"Please select operation.\")\n",
        "\n",
        "num1 = int(input(\"Enter num1: \"))\n",
        "num2 = int(input(\"Enter num2: \"))\n",
        "operation = input(\"Enter operation: \")\n",
        "calculator(num1,num2,operation)"
      ],
      "metadata": {
        "id": "Kot6TE7v3enq",
        "colab": {
          "base_uri": "https://localhost:8080/",
          "height": 0
        },
        "outputId": "dcbb7cd3-b817-41a3-f9ca-287fac5617c3"
      },
      "execution_count": 9,
      "outputs": [
        {
          "name": "stdout",
          "output_type": "stream",
          "text": [
            "Enter num1: 40\n",
            "Enter num2: 0\n",
            "Enter operation: *\n"
          ]
        },
        {
          "output_type": "execute_result",
          "data": {
            "text/plain": [
              "0"
            ]
          },
          "metadata": {},
          "execution_count": 9
        }
      ]
    },
    {
      "cell_type": "markdown",
      "source": [
        "2.Palindrom Checker: Write a program to check if a given word or phrase is a palindrome"
      ],
      "metadata": {
        "id": "OmUST4Ny3kd5"
      }
    },
    {
      "cell_type": "code",
      "source": [
        "word= input(\"Enter a word or phrase: \")\n",
        "\n",
        "def ispalindrome(word):\n",
        "  if word ==word[::-1]:\n",
        "    return True\n",
        "  else:\n",
        "    return False\n",
        "ispalindrome(word)\n"
      ],
      "metadata": {
        "id": "oYee5qQ-3v5k",
        "colab": {
          "base_uri": "https://localhost:8080/",
          "height": 0
        },
        "outputId": "46c1323b-3f48-48b5-9989-6c44be3993b5"
      },
      "execution_count": 7,
      "outputs": [
        {
          "name": "stdout",
          "output_type": "stream",
          "text": [
            "Enter a word or phrase: laal\n"
          ]
        },
        {
          "output_type": "execute_result",
          "data": {
            "text/plain": [
              "True"
            ]
          },
          "metadata": {},
          "execution_count": 7
        }
      ]
    },
    {
      "cell_type": "markdown",
      "source": [
        "3.Fibonacci Sequence: Generate the fibonacci sequence up to a  given number of terms."
      ],
      "metadata": {
        "id": "cddi2B6e3xEk"
      }
    },
    {
      "cell_type": "code",
      "source": [
        "def Fibonacci(number_of_terms):\n",
        "  if number_of_terms == 0:\n",
        "    return 0\n",
        "  elif number_of_terms == 1:\n",
        "    return 1\n",
        "  else:\n",
        "    return Fibonacci(number_of_terms-1) + Fibonacci(number_of_terms-2)\n",
        "\n",
        "\n",
        "# Taking Input\n",
        "number_of_terms = int(input(\"Enter number of terms: \"))\n",
        "\n",
        "# To handle negative numbers\n",
        "if number_of_terms < 0:\n",
        "    print(\"Incorrect Input\")\n",
        "# Will print the number, using our function created above\n",
        "for i in range(number_of_terms):\n",
        "  print(Fibonacci(i), end =', ')\n",
        "\n"
      ],
      "metadata": {
        "id": "M7dYGcT136R8",
        "colab": {
          "base_uri": "https://localhost:8080/",
          "height": 0
        },
        "outputId": "f964e2ba-1f33-486f-e8ac-50ea0d34e88f"
      },
      "execution_count": 51,
      "outputs": [
        {
          "output_type": "stream",
          "name": "stdout",
          "text": [
            "Enter number of terms: -10\n",
            "Incorrect Input\n"
          ]
        }
      ]
    },
    {
      "cell_type": "markdown",
      "source": [
        "4.Prime Number Checker: Build a program to determine if a given number is prime or not."
      ],
      "metadata": {
        "id": "2z2cxzOR383y"
      }
    },
    {
      "cell_type": "code",
      "source": [
        "number = int(input(\"Enter a number: \"))\n",
        "\n",
        "def isPrime(number):\n",
        "  flag = 0\n",
        "\n",
        "  for i in range(2,int(number/2)+1): #optimization\n",
        "    if number % i == 0:\n",
        "      flag += 1\n",
        "\n",
        "  if flag == 0:\n",
        "    print(\"Prime\")\n",
        "  else:\n",
        "    print(\"Not Prime\")\n",
        "\n",
        "isPrime(number)"
      ],
      "metadata": {
        "id": "RbeoOaLR4HK7",
        "colab": {
          "base_uri": "https://localhost:8080/",
          "height": 0
        },
        "outputId": "bd702162-ffe7-40a0-b09b-b2789512161b"
      },
      "execution_count": 27,
      "outputs": [
        {
          "output_type": "stream",
          "name": "stdout",
          "text": [
            "Enter a number: 89\n",
            "Prime\n"
          ]
        }
      ]
    },
    {
      "cell_type": "markdown",
      "source": [
        "5.Multiplication Table: Generate multiplication for a given number"
      ],
      "metadata": {
        "id": "LzIGH3hC4IMK"
      }
    },
    {
      "cell_type": "code",
      "source": [
        "number = int(input(\"Enter a number: \"))\n",
        "\n",
        "def Multiplication(number):\n",
        "  for i in range(1,11):\n",
        "    print(f'{number} * {i} = {number*i}')\n",
        "\n",
        "Multiplication(number)"
      ],
      "metadata": {
        "id": "QrFO9G1s4hmq",
        "colab": {
          "base_uri": "https://localhost:8080/",
          "height": 0
        },
        "outputId": "bc38ec81-ee76-4c84-a1e3-e86475b9953d"
      },
      "execution_count": 60,
      "outputs": [
        {
          "output_type": "stream",
          "name": "stdout",
          "text": [
            "Enter a number: 21\n",
            "21 * 1 = 21\n",
            "21 * 2 = 42\n",
            "21 * 3 = 63\n",
            "21 * 4 = 84\n",
            "21 * 5 = 105\n",
            "21 * 6 = 126\n",
            "21 * 7 = 147\n",
            "21 * 8 = 168\n",
            "21 * 9 = 189\n",
            "21 * 10 = 210\n"
          ]
        }
      ]
    },
    {
      "cell_type": "markdown",
      "source": [
        "6.Factorial Calculator: Write a program to calculate factorial of a given number."
      ],
      "metadata": {
        "id": "MugsbBfl4SbM"
      }
    },
    {
      "cell_type": "code",
      "source": [
        "number = int(input(\"Enter a number: \"))\n",
        "\n",
        "def fact(number):\n",
        "  if number < 0:\n",
        "    return \"Number is Negative\"\n",
        "  elif number ==0 or number ==1:\n",
        "    return 1\n",
        "  else:\n",
        "    return number * fact(number-1)\n",
        "\n",
        "fact(number)"
      ],
      "metadata": {
        "id": "4JtzwVWO5FmD",
        "colab": {
          "base_uri": "https://localhost:8080/",
          "height": 0
        },
        "outputId": "50860000-213b-4b82-8932-8d1e0cdc2516"
      },
      "execution_count": 17,
      "outputs": [
        {
          "name": "stdout",
          "output_type": "stream",
          "text": [
            "Enter a number: 0\n"
          ]
        },
        {
          "output_type": "execute_result",
          "data": {
            "text/plain": [
              "1"
            ]
          },
          "metadata": {},
          "execution_count": 17
        }
      ]
    },
    {
      "cell_type": "markdown",
      "source": [
        "7.Dice Rolling Simulator: Build a program that simulates rolling dice"
      ],
      "metadata": {
        "id": "kiOqOiOE4jKZ"
      }
    },
    {
      "cell_type": "code",
      "source": [
        "import random\n",
        "def Roll_Dice():\n",
        "    no = random.randint(1,6)\n",
        "    if no == 1:\n",
        "      print(\"[-----]\")\n",
        "      print(\"[     ]\")\n",
        "      print(\"[  0  ]\")\n",
        "      print(\"[     ]\")\n",
        "      print(\"[-----]\")\n",
        "    if no == 2:\n",
        "      print(\"[-----]\")\n",
        "      print(\"[0    ]\")\n",
        "      print(\"[     ]\")\n",
        "      print(\"[    0]\")\n",
        "      print(\"[-----]\")\n",
        "    if no == 3:\n",
        "      print(\"[-----]\")\n",
        "      print(\"[     ]\")\n",
        "      print(\"[0 0 0]\")\n",
        "      print(\"[     ]\")\n",
        "      print(\"[-----]\")\n",
        "    if no == 4:\n",
        "      print(\"[-----]\")\n",
        "      print(\"[0   0]\")\n",
        "      print(\"[     ]\")\n",
        "      print(\"[0   0]\")\n",
        "      print(\"[-----]\")\n",
        "    if no == 5:\n",
        "      print(\"[-----]\")\n",
        "      print(\"[0   0]\")\n",
        "      print(\"[  0  ]\")\n",
        "      print(\"[0   0]\")\n",
        "      print(\"[-----]\")\n",
        "    if no == 6:\n",
        "      print(\"[-----]\")\n",
        "      print(\"[0 0 0]\")\n",
        "      print(\"[     ]\")\n",
        "      print(\"[0 0 0]\")\n",
        "      print(\"[-----]\")\n",
        "x = input(\"Press y to roll again and n to exit: \")\n",
        "Roll_Dice()\n",
        "\n"
      ],
      "metadata": {
        "id": "XvYa0j594wwI",
        "colab": {
          "base_uri": "https://localhost:8080/",
          "height": 0
        },
        "outputId": "d5c0533e-6bd2-4707-a00e-5521f0a1e914"
      },
      "execution_count": 73,
      "outputs": [
        {
          "output_type": "stream",
          "name": "stdout",
          "text": [
            "Press y to roll again and n to exit: y\n",
            "[-----]\n",
            "[0    ]\n",
            "[     ]\n",
            "[    0]\n",
            "[-----]\n"
          ]
        }
      ]
    },
    {
      "cell_type": "markdown",
      "source": [
        "8.Anagram Checker: Write a program to check if two words are anagrams of each."
      ],
      "metadata": {
        "id": "Si1ZtOOO4yL3"
      }
    },
    {
      "cell_type": "code",
      "source": [
        "# take the letters from the words “a gentleman,” you can rearrange them to spell “elegant man.”\n",
        "\n",
        "#Function creation\n",
        "def anagramCheck(str1,str2):\n",
        "  if sorted(str1) == sorted(str2):\n",
        "    return True\n",
        "  else:\n",
        "    return False\n",
        "# inputs of both strings\n",
        "str1 = input(\"Enter 1st string: \")\n",
        "str2 = input(\"Enter 2nd string: \")\n",
        "# To check and print message\n",
        "if anagramCheck(str1, str2):\n",
        "  print(\"Anagram\")\n",
        "else:\n",
        "  print(\"Not Anagram\")"
      ],
      "metadata": {
        "id": "MYgnB1xw4Q-W",
        "colab": {
          "base_uri": "https://localhost:8080/",
          "height": 0
        },
        "outputId": "7b2bbc08-141c-4637-f5a0-48add8d3f5ba"
      },
      "execution_count": 58,
      "outputs": [
        {
          "output_type": "stream",
          "name": "stdout",
          "text": [
            "Enter 1st string: hello my name is alpha\n",
            "Enter 2nd string: ismynaem    ollehalpha\n",
            "Anagram\n"
          ]
        }
      ]
    },
    {
      "cell_type": "markdown",
      "source": [
        "9.Armstong Number"
      ],
      "metadata": {
        "id": "K-RkfwJc4-Dr"
      }
    },
    {
      "cell_type": "code",
      "source": [
        "# 1**3 + 5**3 + 3**3= 153,370,371,407\n",
        "number = int(input(\"Enter a number: \"))\n",
        "\n",
        "def Armstrong(number):\n",
        "  temp = number\n",
        "  sum = 0\n",
        "  while temp > 0:\n",
        "    rem = temp % 10\n",
        "    sum = sum + rem**3\n",
        "    temp = temp // 10\n",
        "  if sum == number:\n",
        "    print(\"It is Armstrong number.\")\n",
        "  else:\n",
        "    print(\"It is not Armstrong number.\")\n",
        "Armstrong(number)"
      ],
      "metadata": {
        "id": "bhzVDzSy5CMy",
        "colab": {
          "base_uri": "https://localhost:8080/",
          "height": 0
        },
        "outputId": "679e697d-3a92-4a99-a7f1-e902a76ded14"
      },
      "execution_count": 54,
      "outputs": [
        {
          "output_type": "stream",
          "name": "stdout",
          "text": [
            "Enter a number: 541\n",
            "It is not Armstrong number.\n"
          ]
        }
      ]
    },
    {
      "cell_type": "code",
      "source": [],
      "metadata": {
        "id": "JpvPk4icFIPc"
      },
      "execution_count": null,
      "outputs": []
    }
  ]
}