{
 "cells": [
  {
   "cell_type": "code",
   "execution_count": 1,
   "id": "b9008e38",
   "metadata": {},
   "outputs": [
    {
     "name": "stdout",
     "output_type": "stream",
     "text": [
      "140728342739048 <class 'bool'>\n"
     ]
    }
   ],
   "source": [
    "# Q. Declare a boolean value and store it in a variable.\n",
    "# Check the type and print the id of the same.\n",
    "a= True\n",
    "print(id(a),type(a))"
   ]
  },
  {
   "cell_type": "code",
   "execution_count": 13,
   "id": "0369bccd",
   "metadata": {},
   "outputs": [
    {
     "name": "stdout",
     "output_type": "stream",
     "text": [
      "140728342739048 140728342739048\n",
      "<class 'bool'> 140728342739048 <class 'bool'> 140728342739048\n"
     ]
    }
   ],
   "source": [
    "#Q. Take one boolean value between 0 - 256.\n",
    "# Assign it to two different variables.\n",
    "# Check the id of both the variables. It should come the same. Check why? because of memory reusability.\n",
    "a= bool(23)\n",
    "b= bool(256)\n",
    "c=True\n",
    "d=True\n",
    "print(id(c),id(d))\n",
    "print(type(a),id(a),type(b),id(b))"
   ]
  },
  {
   "cell_type": "code",
   "execution_count": 19,
   "id": "3fc302d0",
   "metadata": {},
   "outputs": [
    {
     "name": "stdout",
     "output_type": "stream",
     "text": [
      "2\n",
      "0\n",
      "1\n",
      "1.0\n",
      "0\n",
      "1\n",
      "1\n"
     ]
    }
   ],
   "source": [
    "# Q. Arithmetic Operations on boolean data\n",
    "# Take two different boolean values.\n",
    "# Store them in two different variables.\n",
    "# Do below operations on them:-\n",
    "# Find sum of both values\n",
    "# Find difference between them\n",
    "# Find the product of both.\n",
    "# Find value after dividing first value with second value\n",
    "# Find the remainder after dividing first value with second value\n",
    "# Find the quotient after dividing first value with second value\n",
    "# Find the result of first value to the power of second value.\n",
    "a= bool(5)\n",
    "b= bool(100)\n",
    "print(a+b)\n",
    "print(a-b)\n",
    "print(a*b)\n",
    "print(a/b)\n",
    "print(a%b)\n",
    "print(a//b)\n",
    "print(a**b)\n"
   ]
  },
  {
   "cell_type": "code",
   "execution_count": 25,
   "id": "16b5c279",
   "metadata": {},
   "outputs": [
    {
     "name": "stdout",
     "output_type": "stream",
     "text": [
      "False <class 'bool'>\n",
      "False <class 'bool'>\n",
      "True <class 'bool'>\n",
      "True <class 'bool'>\n"
     ]
    }
   ],
   "source": [
    "# Q. Comparison Operators on boolean values\n",
    "# Take two different boolean values.\n",
    "# Store them in two different variables.\n",
    "# Do below operations on them:-\n",
    "# Compare these two values with below operator:-\n",
    "# Greater than, '>'\n",
    "# less than, '<'\n",
    "# Greater than or equal to, '>='\n",
    "# Less than or equal to, '<='\n",
    "# Observe their output(return type should be boolean)\n",
    "a= bool(12)\n",
    "b= bool(1)\n",
    "#a= True\n",
    "#b= False\n",
    "print(a>b, type(a>b))\n",
    "print(a<b, type(a<b))\n",
    "print(a>=b, type(a>=b))\n",
    "print(a<=b, type(a<=b))\n",
    "\n"
   ]
  },
  {
   "cell_type": "code",
   "execution_count": 28,
   "id": "b382b165",
   "metadata": {},
   "outputs": [
    {
     "name": "stdout",
     "output_type": "stream",
     "text": [
      "True\n",
      "True\n",
      "True <class 'bool'>\n",
      "False <class 'bool'>\n"
     ]
    }
   ],
   "source": [
    "# Q. Equality Operator\n",
    "# Take two different boolean values.\n",
    "# Store them in two different variables.\n",
    "# Equate them using equality operators (==, !=)\n",
    "# Observe the output(return type should be boolean)\n",
    "a= bool(19)\n",
    "b= bool(10)\n",
    "print(a)\n",
    "print(b)\n",
    "print(a==b, type(a==b))\n",
    "print(a!=b, type(a!=b))"
   ]
  },
  {
   "cell_type": "code",
   "execution_count": 29,
   "id": "b13ab20a",
   "metadata": {},
   "outputs": [
    {
     "name": "stdout",
     "output_type": "stream",
     "text": [
      "True\n",
      "False\n",
      "False\n",
      "False\n",
      "True\n",
      "True\n",
      "True\n",
      "False\n",
      "False\n",
      "True\n"
     ]
    }
   ],
   "source": [
    "#Q. Logical operators\n",
    "#Observe the output of below code\n",
    "#Cross check the output manually\n",
    "\n",
    "#A and B will return A,if bool of A is False else B\n",
    "#A or B will return A if bool of A is True else B\n",
    "print(True and True)\n",
    "\n",
    "#----------------------------------------->Output is True\n",
    "\n",
    "print(False and True)\n",
    "#----------------------------------------->Output is False\n",
    "print(True and False)\n",
    "#----------------------------------------->Output is False\n",
    "print(False and False)\n",
    "#----------------------------------------->Output is False\n",
    "print(True or True)\n",
    "#----------------------------------------->Output is True\n",
    "print(False or True)\n",
    "#----------------------------------------->Output is True\n",
    "print(True or False)\n",
    "#----------------------------------------->Output is True\n",
    "print(False or False)\n",
    "#----------------------------------------->Output is False\n",
    "print(not True)\n",
    "#----------------------------------------->Output is False\n",
    "print(not False)\n",
    "#----------------------------------------->Output is True\n",
    "\n"
   ]
  },
  {
   "cell_type": "code",
   "execution_count": 40,
   "id": "34b53773",
   "metadata": {},
   "outputs": [
    {
     "name": "stdout",
     "output_type": "stream",
     "text": [
      "True\n",
      "True\n",
      "True\n",
      "-2\n",
      "4\n",
      "0\n"
     ]
    }
   ],
   "source": [
    "# Q. Bitwise Operators\n",
    "# Do below operations on the values provided below:-\n",
    "#Bitwise and(&) --------------> \n",
    "print(True & True) \n",
    "#-------> Output is True\n",
    "#Bitwise or(|) -------------->\n",
    "print(True | False)\n",
    "#-------> Output is True\n",
    "#Bitwise(^) --------------> \n",
    "print(True^False)\n",
    "#-------> Output is True\n",
    "#Bitwise negation(~) --------->\n",
    "print(~True) \n",
    "#-------> Output is -2, 1+1=2->-2\n",
    "#Bitwise left shift ---------> \n",
    "print(True<<2)\n",
    "#-------> Output is 4, 1*(2**2)\n",
    "#Bitwise right shift ---------> \n",
    "print(True>>2)\n",
    "#-------> Output is 0, 1//(2**2)\n",
    "#Cross check the output manually\n"
   ]
  },
  {
   "cell_type": "code",
   "execution_count": 41,
   "id": "561b86c5",
   "metadata": {},
   "outputs": [
    {
     "name": "stdout",
     "output_type": "stream",
     "text": [
      "True\n",
      "False\n",
      "True\n",
      "False\n"
     ]
    }
   ],
   "source": [
    "# Q. What is the output of expression inside the print statement. Cross\n",
    "# check before running the program.\n",
    "a = True\n",
    "b = True\n",
    "print(a is b) #True or False? #\n",
    "\n",
    "print(a is not b) #True or False?\n",
    "a = False\n",
    "b = False\n",
    "print(a is b) #True or False?\n",
    "print(a is not b) #True or False?\n"
   ]
  },
  {
   "cell_type": "code",
   "execution_count": 42,
   "id": "fdfba0b4",
   "metadata": {},
   "outputs": [
    {
     "name": "stdout",
     "output_type": "stream",
     "text": [
      "True\n",
      "True\n",
      "True\n",
      "True\n",
      "True\n"
     ]
    }
   ],
   "source": [
    "# Q. Membership operation\n",
    "# in, not in are two membership operators and it returns boolean value\n",
    "print(True in [10,10.20,10+20j,'Python', True])\n",
    "print(False in (10,10.20,10+20j,'Python', False))\n",
    "print(True in {1,2,3, True})\n",
    "print(True in {True:100, False:200, True:300})\n",
    "print(False in {True:100, False:200, True:300})"
   ]
  }
 ],
 "metadata": {
  "kernelspec": {
   "display_name": "Python 3 (ipykernel)",
   "language": "python",
   "name": "python3"
  },
  "language_info": {
   "codemirror_mode": {
    "name": "ipython",
    "version": 3
   },
   "file_extension": ".py",
   "mimetype": "text/x-python",
   "name": "python",
   "nbconvert_exporter": "python",
   "pygments_lexer": "ipython3",
   "version": "3.9.13"
  }
 },
 "nbformat": 4,
 "nbformat_minor": 5
}
